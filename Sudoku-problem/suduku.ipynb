{
 "cells": [
  {
   "cell_type": "code",
   "execution_count": 5,
   "id": "1de06e1c",
   "metadata": {},
   "outputs": [],
   "source": [
    "\"\"\"\n",
    "The Sudoku Problem Formulation for the PuLP Modeller\n",
    "\n",
    "Authors: Antony Phillips, Dr Stuart Mitchell\n",
    "edited by Nathan Sudermann-Merx\n",
    "practice file by Ahmed ELsherif for learning purposes\n",
    "\"\"\"\n",
    "\n",
    "# Import PuLP modeler functions\n",
    "import pulp"
   ]
  },
  {
   "cell_type": "code",
   "execution_count": 6,
   "id": "6d888494",
   "metadata": {},
   "outputs": [],
   "source": [
    "# create rows columns and values from 1 to 9\n",
    "VALS = ROWS = COLS = range(1, 10)"
   ]
  },
  {
   "cell_type": "code",
   "execution_count": 7,
   "id": "acc34467",
   "metadata": {},
   "outputs": [],
   "source": [
    "Boxes = [\n",
    "    [(3 * i + k +1, 3 * j + l + 1) for k in range(3) for l in range(3)]\n",
    "    for i in range(3)\n",
    "    for j in range(3)\n",
    "]"
   ]
  },
  {
   "cell_type": "code",
   "execution_count": 8,
   "id": "28373bc6",
   "metadata": {},
   "outputs": [],
   "source": [
    "# create the problem\n",
    "prob = pulp.LpProblem(\"Sudoku_Problem\")"
   ]
  },
  {
   "cell_type": "code",
   "execution_count": 9,
   "id": "765e8ff0",
   "metadata": {},
   "outputs": [],
   "source": [
    "# create the decision variables\n",
    "choices = pulp.LpVariable.dicts(\"Choise\", (VALS, ROWS, COLS), cat=\"Binary\")"
   ]
  },
  {
   "cell_type": "code",
   "execution_count": 10,
   "id": "8731dc1b",
   "metadata": {},
   "outputs": [],
   "source": [
    "# We do not define an objective function since none is needed"
   ]
  },
  {
   "cell_type": "code",
   "execution_count": 12,
   "id": "1763052f",
   "metadata": {},
   "outputs": [],
   "source": [
    "# constraint that for each square in the sudoku only 1 value from 1 to 9 can be chosen\n",
    "for r in ROWS:\n",
    "    for c in COLS:\n",
    "        prob += pulp.lpSum(choices[v][r][c] for v in VALS) == 1"
   ]
  },
  {
   "cell_type": "code",
   "execution_count": 14,
   "id": "ca27d70a",
   "metadata": {},
   "outputs": [],
   "source": [
    "# ensure each value appear once in each row, column, boxes\n",
    "for v in VALS:\n",
    "    for r in ROWS:\n",
    "        prob += pulp.lpSum(choices[v][r][c] for c in COLS) == 1\n",
    "    for c in COLS:\n",
    "        prob += pulp.lpSum(choices[v][r][c] for r in ROWS) == 1\n",
    "    for b in Boxes:\n",
    "        prob += pulp.lpSum([choices[v][r][c] for (r,c) in b]) == 1"
   ]
  },
  {
   "cell_type": "code",
   "execution_count": 15,
   "id": "3f9006df",
   "metadata": {},
   "outputs": [],
   "source": [
    "# The starting numbers are entered as constraints\n",
    "input_data = [\n",
    "    (5, 1, 1),\n",
    "    (6, 2, 1),\n",
    "    (8, 4, 1),\n",
    "    (4, 5, 1),\n",
    "    (7, 6, 1),\n",
    "    (3, 1, 2),\n",
    "    (9, 3, 2),\n",
    "    (6, 7, 2),\n",
    "    (8, 3, 3),\n",
    "    (1, 2, 4),\n",
    "    (8, 5, 4),\n",
    "    (4, 8, 4),\n",
    "    (7, 1, 5),\n",
    "    (9, 2, 5),\n",
    "    (6, 4, 5),\n",
    "    (2, 6, 5),\n",
    "    (1, 8, 5),\n",
    "    (8, 9, 5),\n",
    "    (5, 2, 6),\n",
    "    (3, 5, 6),\n",
    "    (9, 8, 6),\n",
    "    (2, 7, 7),\n",
    "    (6, 3, 8),\n",
    "    (8, 7, 8),\n",
    "    (7, 9, 8),\n",
    "    (3, 4, 9),\n",
    "    (1, 5, 9),\n",
    "    (6, 6, 9),\n",
    "    (5, 8, 9),\n",
    "]\n",
    "\n",
    "for v, r, c in input_data:\n",
    "    prob += choices[v][r][c] == 1"
   ]
  },
  {
   "cell_type": "code",
   "execution_count": 17,
   "id": "a2a92470",
   "metadata": {},
   "outputs": [
    {
     "name": "stdout",
     "output_type": "stream",
     "text": [
      "Status: Optimal\n"
     ]
    }
   ],
   "source": [
    "# The problem data is written to an .lp file\n",
    "prob.writeLP(\"Sudoku.lp\")\n",
    "\n",
    "# The problem is solved using PuLP's choice of Solver\n",
    "prob.solve()\n",
    "\n",
    "# The status of the solution is printed to the screen\n",
    "print(\"Status:\", pulp.LpStatus[prob.status])"
   ]
  },
  {
   "cell_type": "code",
   "execution_count": 19,
   "id": "85d221c9",
   "metadata": {},
   "outputs": [],
   "source": [
    "# A file called sudokuout.txt is created/overwritten for writing to\n",
    "sudokuout = open(\"sudokuout.txt\", \"w\")\n",
    "\n",
    "# The solution is written to the sudokuout.txt file\n",
    "for r in ROWS:\n",
    "    if r in [1, 4, 7]:\n",
    "        sudokuout.write(\"+-------+-------+-------+\\n\")\n",
    "    for c in COLS:\n",
    "        for v in VALS:\n",
    "            if pulp.value(choices[v][r][c]) == 1:\n",
    "                if c in [1, 4, 7]:\n",
    "                    sudokuout.write(\"| \")\n",
    "                sudokuout.write(str(v) + \" \")\n",
    "                if c == 9:\n",
    "                    sudokuout.write(\"|\\n\")\n",
    "sudokuout.write(\"+-------+-------+-------+\")\n",
    "sudokuout.close()"
   ]
  },
  {
   "cell_type": "code",
   "execution_count": 20,
   "id": "acfb5cb8",
   "metadata": {},
   "outputs": [
    {
     "name": "stdout",
     "output_type": "stream",
     "text": [
      "Solution Written to sudokuout.txt\n"
     ]
    }
   ],
   "source": [
    "# The location of the solution is give to the user\n",
    "print(\"Solution Written to sudokuout.txt\")"
   ]
  },
  {
   "cell_type": "code",
   "execution_count": null,
   "id": "a309c2a3",
   "metadata": {},
   "outputs": [],
   "source": []
  }
 ],
 "metadata": {
  "kernelspec": {
   "display_name": "python_basic",
   "language": "python",
   "name": "python3"
  },
  "language_info": {
   "codemirror_mode": {
    "name": "ipython",
    "version": 3
   },
   "file_extension": ".py",
   "mimetype": "text/x-python",
   "name": "python",
   "nbconvert_exporter": "python",
   "pygments_lexer": "ipython3",
   "version": "3.10.17"
  }
 },
 "nbformat": 4,
 "nbformat_minor": 5
}
