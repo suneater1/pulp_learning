{
 "cells": [
  {
   "cell_type": "code",
   "execution_count": 28,
   "id": "ae707470",
   "metadata": {},
   "outputs": [],
   "source": [
    "\"\"\"\n",
    "The Full Whiskas Model Python Formulation for the PuLP Modeller\n",
    "\n",
    "Authors: Ahmed Elsherif for learning purposes\n",
    "\"\"\"\n",
    "\n",
    "# Import PuLP modeler functions\n",
    "import pulp\n",
    "import pandas as pd"
   ]
  },
  {
   "cell_type": "code",
   "execution_count": 29,
   "id": "56db93f5",
   "metadata": {},
   "outputs": [],
   "source": [
    "# load ingredient data\n",
    "df_indredients = pd.read_csv(\"data/ingredients.csv\", index_col=\"ingredient\")\n",
    "\n",
    "# load nutritional constraints\n",
    "df_constraints = pd.read_csv(\"data/constraints.csv\", index_col=\"nutrient\")"
   ]
  },
  {
   "cell_type": "code",
   "execution_count": 30,
   "id": "4c08f9d7",
   "metadata": {},
   "outputs": [
    {
     "data": {
      "text/html": [
       "<div>\n",
       "<style scoped>\n",
       "    .dataframe tbody tr th:only-of-type {\n",
       "        vertical-align: middle;\n",
       "    }\n",
       "\n",
       "    .dataframe tbody tr th {\n",
       "        vertical-align: top;\n",
       "    }\n",
       "\n",
       "    .dataframe thead th {\n",
       "        text-align: right;\n",
       "    }\n",
       "</style>\n",
       "<table border=\"1\" class=\"dataframe\">\n",
       "  <thead>\n",
       "    <tr style=\"text-align: right;\">\n",
       "      <th></th>\n",
       "      <th>cost</th>\n",
       "      <th>protein</th>\n",
       "      <th>fat</th>\n",
       "      <th>fibre</th>\n",
       "      <th>salt</th>\n",
       "    </tr>\n",
       "    <tr>\n",
       "      <th>ingredient</th>\n",
       "      <th></th>\n",
       "      <th></th>\n",
       "      <th></th>\n",
       "      <th></th>\n",
       "      <th></th>\n",
       "    </tr>\n",
       "  </thead>\n",
       "  <tbody>\n",
       "    <tr>\n",
       "      <th>chicken</th>\n",
       "      <td>0.013</td>\n",
       "      <td>0.10</td>\n",
       "      <td>0.08</td>\n",
       "      <td>0.001</td>\n",
       "      <td>0.002</td>\n",
       "    </tr>\n",
       "    <tr>\n",
       "      <th>beef</th>\n",
       "      <td>0.008</td>\n",
       "      <td>0.20</td>\n",
       "      <td>0.10</td>\n",
       "      <td>0.005</td>\n",
       "      <td>0.005</td>\n",
       "    </tr>\n",
       "    <tr>\n",
       "      <th>mutton</th>\n",
       "      <td>0.010</td>\n",
       "      <td>0.15</td>\n",
       "      <td>0.11</td>\n",
       "      <td>0.003</td>\n",
       "      <td>0.007</td>\n",
       "    </tr>\n",
       "    <tr>\n",
       "      <th>rice</th>\n",
       "      <td>0.002</td>\n",
       "      <td>0.00</td>\n",
       "      <td>0.01</td>\n",
       "      <td>0.100</td>\n",
       "      <td>0.002</td>\n",
       "    </tr>\n",
       "    <tr>\n",
       "      <th>wheat</th>\n",
       "      <td>0.005</td>\n",
       "      <td>0.04</td>\n",
       "      <td>0.01</td>\n",
       "      <td>0.150</td>\n",
       "      <td>0.008</td>\n",
       "    </tr>\n",
       "    <tr>\n",
       "      <th>gel</th>\n",
       "      <td>0.001</td>\n",
       "      <td>0.00</td>\n",
       "      <td>0.00</td>\n",
       "      <td>0.000</td>\n",
       "      <td>0.000</td>\n",
       "    </tr>\n",
       "  </tbody>\n",
       "</table>\n",
       "</div>"
      ],
      "text/plain": [
       "             cost  protein   fat  fibre   salt\n",
       "ingredient                                    \n",
       "chicken     0.013     0.10  0.08  0.001  0.002\n",
       "beef        0.008     0.20  0.10  0.005  0.005\n",
       "mutton      0.010     0.15  0.11  0.003  0.007\n",
       "rice        0.002     0.00  0.01  0.100  0.002\n",
       "wheat       0.005     0.04  0.01  0.150  0.008\n",
       "gel         0.001     0.00  0.00  0.000  0.000"
      ]
     },
     "execution_count": 30,
     "metadata": {},
     "output_type": "execute_result"
    }
   ],
   "source": [
    "df_indredients"
   ]
  },
  {
   "cell_type": "code",
   "execution_count": 31,
   "id": "79a07538",
   "metadata": {},
   "outputs": [
    {
     "data": {
      "text/html": [
       "<div>\n",
       "<style scoped>\n",
       "    .dataframe tbody tr th:only-of-type {\n",
       "        vertical-align: middle;\n",
       "    }\n",
       "\n",
       "    .dataframe tbody tr th {\n",
       "        vertical-align: top;\n",
       "    }\n",
       "\n",
       "    .dataframe thead th {\n",
       "        text-align: right;\n",
       "    }\n",
       "</style>\n",
       "<table border=\"1\" class=\"dataframe\">\n",
       "  <thead>\n",
       "    <tr style=\"text-align: right;\">\n",
       "      <th></th>\n",
       "      <th>min</th>\n",
       "      <th>max</th>\n",
       "    </tr>\n",
       "    <tr>\n",
       "      <th>nutrient</th>\n",
       "      <th></th>\n",
       "      <th></th>\n",
       "    </tr>\n",
       "  </thead>\n",
       "  <tbody>\n",
       "    <tr>\n",
       "      <th>protein</th>\n",
       "      <td>8.0</td>\n",
       "      <td>NaN</td>\n",
       "    </tr>\n",
       "    <tr>\n",
       "      <th>fat</th>\n",
       "      <td>6.0</td>\n",
       "      <td>NaN</td>\n",
       "    </tr>\n",
       "    <tr>\n",
       "      <th>fibre</th>\n",
       "      <td>NaN</td>\n",
       "      <td>2.0</td>\n",
       "    </tr>\n",
       "    <tr>\n",
       "      <th>salt</th>\n",
       "      <td>NaN</td>\n",
       "      <td>0.4</td>\n",
       "    </tr>\n",
       "  </tbody>\n",
       "</table>\n",
       "</div>"
      ],
      "text/plain": [
       "          min  max\n",
       "nutrient          \n",
       "protein   8.0  NaN\n",
       "fat       6.0  NaN\n",
       "fibre     NaN  2.0\n",
       "salt      NaN  0.4"
      ]
     },
     "execution_count": 31,
     "metadata": {},
     "output_type": "execute_result"
    }
   ],
   "source": [
    "df_constraints"
   ]
  },
  {
   "cell_type": "code",
   "execution_count": 32,
   "id": "b4fd173c",
   "metadata": {},
   "outputs": [],
   "source": [
    "# Creates a list of the Ingredients\n",
    "Ingredients = df_indredients.index.tolist()\n",
    "\n",
    "# A dictionary of the costs of each of the Ingredients is created\n",
    "costs = df_indredients[\"cost\"].to_dict()\n",
    "\n",
    "# Nutrient content per ingredient\n",
    "nutrients = {\n",
    "    nutrient: df_indredients[nutrient].to_dict()\n",
    "    for nutrient in df_constraints.index\n",
    "}\n",
    "\n",
    "# define bounds\n",
    "min_req = df_constraints[\"min\"].fillna(0).to_dict()\n",
    "max_req = df_constraints[\"max\"].fillna(float(\"inf\")).to_dict()"
   ]
  },
  {
   "cell_type": "code",
   "execution_count": 33,
   "id": "1b5966a2",
   "metadata": {},
   "outputs": [],
   "source": [
    "# Create the 'prob' variable to contain the problem data\n",
    "model = pulp.LpProblem(\"The_Whiskas_Problem\", pulp.LpMinimize)"
   ]
  },
  {
   "cell_type": "code",
   "execution_count": 34,
   "id": "4ac072aa",
   "metadata": {},
   "outputs": [],
   "source": [
    "# decision variables\n",
    "x = pulp.LpVariable.dicts(\"Percent\", Ingredients, lowBound=0)"
   ]
  },
  {
   "cell_type": "code",
   "execution_count": 35,
   "id": "ad73c38f",
   "metadata": {},
   "outputs": [],
   "source": [
    "# objective function: minimize cost\n",
    "model += pulp.lpSum(costs[i] * x[i] for i in Ingredients)"
   ]
  },
  {
   "cell_type": "code",
   "execution_count": 36,
   "id": "fe97b3dd",
   "metadata": {},
   "outputs": [],
   "source": [
    "# constraints: sum of ingredients = 100\n",
    "model += pulp.lpSum(x[i] for i in Ingredients) == 100"
   ]
  },
  {
   "cell_type": "code",
   "execution_count": 37,
   "id": "c59174e9",
   "metadata": {},
   "outputs": [],
   "source": [
    "# constraints: nutrition value requirements\n",
    "for j in nutrients:\n",
    "    # lower bound\n",
    "    model += pulp.lpSum(nutrients[j][i] * x[i] for i in Ingredients) >= min_req[j], f\"{j}_min\"\n",
    "    # upper bound\n",
    "    if max_req[j] < float(\"inf\"):\n",
    "        model += pulp.lpSum(nutrients[j][i] * x[i] for i in Ingredients) <= max_req[j], f\"{j}_max\""
   ]
  },
  {
   "cell_type": "code",
   "execution_count": null,
   "id": "81c41ebe",
   "metadata": {},
   "outputs": [
    {
     "data": {
      "text/plain": [
       "1"
      ]
     },
     "execution_count": 38,
     "metadata": {},
     "output_type": "execute_result"
    }
   ],
   "source": [
    "# solve the model\n",
    "model.solve()"
   ]
  },
  {
   "cell_type": "code",
   "execution_count": 41,
   "id": "08203f81",
   "metadata": {},
   "outputs": [
    {
     "name": "stdout",
     "output_type": "stream",
     "text": [
      "Status: Optimal\n",
      "Total cost per can: $0.5200\n",
      "chicken: 0.00g\n",
      "beef: 60.00g\n",
      "mutton: 0.00g\n",
      "rice: 0.00g\n",
      "wheat: 0.00g\n",
      "gel: 40.00g\n"
     ]
    }
   ],
   "source": [
    "# Output\n",
    "print(f\"Status: {pulp.LpStatus[model.status]}\")\n",
    "print(f\"Total cost per can: ${pulp.value(model.objective):.4f}\")\n",
    "for i in Ingredients:\n",
    "    print(f\"{i}: {x[i].varValue:.2f}g\")"
   ]
  },
  {
   "cell_type": "code",
   "execution_count": 49,
   "id": "afc6f1c5",
   "metadata": {},
   "outputs": [
    {
     "data": {
      "image/png": "[encoded data removed]",
      "text/plain": [
       "<Figure size 800x500 with 1 Axes>"
      ]
     },
     "metadata": {},
     "output_type": "display_data"
    }
   ],
   "source": [
    "import matplotlib.pyplot as plt\n",
    "\n",
    "# Solve model if not already done\n",
    "model.solve()\n",
    "\n",
    "# Extract non-zero solution values\n",
    "solution = {i: x[i].varValue for i in Ingredients if x[i].varValue > 0}\n",
    "labels = list(solution.keys())\n",
    "values = list(solution.values())\n",
    "\n",
    "# Plot bar chart\n",
    "plt.figure(figsize=(8, 5))\n",
    "bars = plt.bar(labels, values, color=\"skyblue\")\n",
    "\n",
    "# Add data labels on top of each bar\n",
    "for bar in bars:\n",
    "    yval = bar.get_height()\n",
    "    plt.text(bar.get_x() + bar.get_width() / 2, yval + 1, f\"{yval:.1f}g\",\n",
    "             ha='center', va='bottom', fontsize=9)\n",
    "\n",
    "plt.ylabel(\"Grams per 100g can\")\n",
    "plt.title(\"Optimal Ingredient Blend\")\n",
    "plt.xticks(rotation=45)\n",
    "plt.tight_layout()\n",
    "\n",
    "# Save figure\n",
    "plt.savefig(\"results/solution_plot.png\")\n",
    "plt.show()\n"
   ]
  },
  {
   "cell_type": "code",
   "execution_count": 50,
   "id": "3f9bc91d",
   "metadata": {},
   "outputs": [
    {
     "data": {
      "image/png": "[encoded data removed]",
      "text/plain": [
       "<Figure size 600x400 with 1 Axes>"
      ]
     },
     "metadata": {},
     "output_type": "display_data"
    }
   ],
   "source": [
    "import matplotlib.pyplot as plt\n",
    "import squarify\n",
    "\n",
    "# Treemap plot\n",
    "plt.figure(figsize=(6, 4))\n",
    "sizes = list(solution.values())\n",
    "labels_with_values = [f\"{k}\\n{v:.1f}g\" for k, v in solution.items()]\n",
    "\n",
    "squarify.plot(sizes=sizes, label=labels_with_values, alpha=0.8, text_kwargs={'fontsize': 10})\n",
    "plt.title(\"Ingredient Composition (Treemap)\")\n",
    "plt.axis('off')\n",
    "plt.tight_layout()\n",
    "plt.savefig(\"results/solution_treemap.png\")\n",
    "plt.show()\n"
   ]
  }
 ],
 "metadata": {
  "kernelspec": {
   "display_name": "python_basic",
   "language": "python",
   "name": "python3"
  },
  "language_info": {
   "codemirror_mode": {
    "name": "ipython",
    "version": 3
   },
   "file_extension": ".py",
   "mimetype": "text/x-python",
   "name": "python",
   "nbconvert_exporter": "python",
   "pygments_lexer": "ipython3",
   "version": "3.10.17"
  }
 },
 "nbformat": 4,
 "nbformat_minor": 5
}
