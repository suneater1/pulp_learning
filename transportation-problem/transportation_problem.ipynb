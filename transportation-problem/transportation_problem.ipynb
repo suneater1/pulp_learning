{
 "cells": [
  {
   "cell_type": "code",
   "execution_count": 63,
   "id": "165044cf",
   "metadata": {},
   "outputs": [],
   "source": [
    "# import pulp and pandas\n",
    "import pulp\n",
    "import pandas as pd"
   ]
  },
  {
   "cell_type": "code",
   "execution_count": 64,
   "id": "0e1db2dd",
   "metadata": {},
   "outputs": [
    {
     "data": {
      "text/html": [
       "<div>\n",
       "<style scoped>\n",
       "    .dataframe tbody tr th:only-of-type {\n",
       "        vertical-align: middle;\n",
       "    }\n",
       "\n",
       "    .dataframe tbody tr th {\n",
       "        vertical-align: top;\n",
       "    }\n",
       "\n",
       "    .dataframe thead th {\n",
       "        text-align: right;\n",
       "    }\n",
       "</style>\n",
       "<table border=\"1\" class=\"dataframe\">\n",
       "  <thead>\n",
       "    <tr style=\"text-align: right;\">\n",
       "      <th></th>\n",
       "      <th>demand</th>\n",
       "      <th>w_A</th>\n",
       "      <th>w_B</th>\n",
       "    </tr>\n",
       "    <tr>\n",
       "      <th>bar</th>\n",
       "      <th></th>\n",
       "      <th></th>\n",
       "      <th></th>\n",
       "    </tr>\n",
       "  </thead>\n",
       "  <tbody>\n",
       "    <tr>\n",
       "      <th>b1</th>\n",
       "      <td>500</td>\n",
       "      <td>2</td>\n",
       "      <td>3</td>\n",
       "    </tr>\n",
       "    <tr>\n",
       "      <th>b2</th>\n",
       "      <td>900</td>\n",
       "      <td>4</td>\n",
       "      <td>1</td>\n",
       "    </tr>\n",
       "    <tr>\n",
       "      <th>b3</th>\n",
       "      <td>1800</td>\n",
       "      <td>5</td>\n",
       "      <td>3</td>\n",
       "    </tr>\n",
       "    <tr>\n",
       "      <th>b4</th>\n",
       "      <td>200</td>\n",
       "      <td>2</td>\n",
       "      <td>2</td>\n",
       "    </tr>\n",
       "    <tr>\n",
       "      <th>b5</th>\n",
       "      <td>700</td>\n",
       "      <td>1</td>\n",
       "      <td>3</td>\n",
       "    </tr>\n",
       "  </tbody>\n",
       "</table>\n",
       "</div>"
      ],
      "text/plain": [
       "     demand  w_A  w_B\n",
       "bar                  \n",
       "b1      500    2    3\n",
       "b2      900    4    1\n",
       "b3     1800    5    3\n",
       "b4      200    2    2\n",
       "b5      700    1    3"
      ]
     },
     "execution_count": 64,
     "metadata": {},
     "output_type": "execute_result"
    }
   ],
   "source": [
    "df_inputs = pd.read_csv(\"inputs.csv\", index_col=\"bar\")\n",
    "df_inputs"
   ]
  },
  {
   "cell_type": "code",
   "execution_count": 65,
   "id": "b8dbbac3",
   "metadata": {},
   "outputs": [],
   "source": [
    "bars = df_inputs.index.tolist()\n",
    "whs = df_inputs.columns[1:].tolist()\n",
    "costs = {\n",
    "    wh: df_inputs[wh].to_dict()\n",
    "    for wh in whs\n",
    "    }\n",
    "demand = df_inputs[\"demand\"].to_dict()\n",
    "capacity = {\n",
    "    \"w_A\":1000,\n",
    "    \"w_B\":4000\n",
    "    }"
   ]
  },
  {
   "cell_type": "code",
   "execution_count": 66,
   "id": "d679c136",
   "metadata": {},
   "outputs": [
    {
     "name": "stdout",
     "output_type": "stream",
     "text": [
      "['b1', 'b2', 'b3', 'b4', 'b5']\n",
      "['w_A', 'w_B']\n",
      "{'w_A': {'b1': 2, 'b2': 4, 'b3': 5, 'b4': 2, 'b5': 1}, 'w_B': {'b1': 3, 'b2': 1, 'b3': 3, 'b4': 2, 'b5': 3}}\n",
      "{'b1': 500, 'b2': 900, 'b3': 1800, 'b4': 200, 'b5': 700}\n",
      "{'w_A': 1000, 'w_B': 4000}\n"
     ]
    }
   ],
   "source": [
    "print(bars)\n",
    "print(whs)\n",
    "print(costs)\n",
    "print(demand)\n",
    "print(capacity)"
   ]
  },
  {
   "cell_type": "code",
   "execution_count": 67,
   "id": "14a500b3",
   "metadata": {},
   "outputs": [],
   "source": [
    "# create model\n",
    "model = pulp.LpProblem(\"transportation_problem\", pulp.LpMinimize)"
   ]
  },
  {
   "cell_type": "code",
   "execution_count": 68,
   "id": "12a18ccd",
   "metadata": {},
   "outputs": [],
   "source": [
    "# create decision variables\n",
    "x = pulp.LpVariable.dicts(\"Quantity\", (whs,bars), lowBound=0)"
   ]
  },
  {
   "cell_type": "code",
   "execution_count": 69,
   "id": "2c618387",
   "metadata": {},
   "outputs": [],
   "source": [
    "# formulate objective function\n",
    "model += pulp.lpSum(x[i][j] * costs[i][j] for i in whs for j in bars)"
   ]
  },
  {
   "cell_type": "code",
   "execution_count": 70,
   "id": "3b1c4275",
   "metadata": {},
   "outputs": [],
   "source": [
    "# add demand constraints\n",
    "for j in bars:\n",
    "    model += pulp.lpSum(x[i][j] for i in whs) >= demand[j], f\"demand_{j}\""
   ]
  },
  {
   "cell_type": "code",
   "execution_count": 71,
   "id": "309147ec",
   "metadata": {},
   "outputs": [],
   "source": [
    "# add supply contraints\n",
    "for i in whs:\n",
    "    model += pulp.lpSum(x[i][j] for j in bars) <= capacity[i], f\"capacity_{i}\""
   ]
  },
  {
   "cell_type": "code",
   "execution_count": 72,
   "id": "55efb5b9",
   "metadata": {},
   "outputs": [
    {
     "data": {
      "text/plain": [
       "1"
      ]
     },
     "execution_count": 72,
     "metadata": {},
     "output_type": "execute_result"
    }
   ],
   "source": [
    "model.solve()"
   ]
  },
  {
   "cell_type": "code",
   "execution_count": 77,
   "id": "1c91751b",
   "metadata": {},
   "outputs": [
    {
     "name": "stdout",
     "output_type": "stream",
     "text": [
      "Status: Optimal\n",
      "Total cost: $8600.0000\n",
      "w_A: 300.00g\n",
      "w_A: 0.00g\n",
      "w_A: 0.00g\n",
      "w_A: 0.00g\n",
      "w_A: 700.00g\n",
      "w_B: 200.00g\n",
      "w_B: 900.00g\n",
      "w_B: 1800.00g\n",
      "w_B: 200.00g\n",
      "w_B: 0.00g\n"
     ]
    }
   ],
   "source": [
    "# Output\n",
    "print(f\"Status: {pulp.LpStatus[model.status]}\")\n",
    "print(f\"Total cost: ${pulp.value(model.objective):.4f}\")\n",
    "for i in whs:\n",
    "    for j in bars:\n",
    "        print(f\"{i}: {x[i][j].varValue:.2f}g\")"
   ]
  },
  {
   "cell_type": "code",
   "execution_count": null,
   "id": "9e0d46d6",
   "metadata": {},
   "outputs": [],
   "source": []
  }
 ],
 "metadata": {
  "kernelspec": {
   "display_name": "python_basic",
   "language": "python",
   "name": "python3"
  },
  "language_info": {
   "codemirror_mode": {
    "name": "ipython",
    "version": 3
   },
   "file_extension": ".py",
   "mimetype": "text/x-python",
   "name": "python",
   "nbconvert_exporter": "python",
   "pygments_lexer": "ipython3",
   "version": "3.10.17"
  }
 },
 "nbformat": 4,
 "nbformat_minor": 5
}
